{
 "cells": [
  {
   "cell_type": "code",
   "execution_count": 121,
   "metadata": {},
   "outputs": [
    {
     "name": "stdout",
     "output_type": "stream",
     "text": [
      "               time  temp  humidity  pressure  visibility  cloud_cover\n",
      "0  2025-03-12 00:00  19.9        38    1012.0        10.0           11\n",
      "1  2025-03-12 01:00  18.7        42    1011.0        10.0            7\n",
      "2  2025-03-12 02:00  18.1        43    1010.0        10.0            8\n",
      "3  2025-03-12 03:00  17.6        45    1010.0        10.0            9\n",
      "4  2025-03-12 04:00  17.4        46    1010.0        10.0           10\n"
     ]
    }
   ],
   "source": [
    "import requests\n",
    "import pandas as pd\n",
    "\n",
    "\n",
    "API_KEY = \"ca72e792bc6e44b4be1230936250904\"\n",
    "CITY = \"Lahore\"  \n",
    "URL = f\"http://api.weatherapi.com/v1/history.json?key={API_KEY}&q={CITY}&dt=\"\n",
    "\n",
    "# Example to fetch data for the last 30 days (you can adjust this)\n",
    "dates = pd.date_range(end=pd.to_datetime('today'), periods=30).strftime('%Y-%m-%d')\n",
    "\n",
    "weather_data = []\n",
    "for date in dates:\n",
    "    response = requests.get(URL + date)\n",
    "    data = response.json()\n",
    "    if 'forecast' in data:\n",
    "        for hour in data['forecast']['forecastday'][0]['hour']:\n",
    "            weather_data.append({\n",
    "                'time': hour['time'],\n",
    "                'temp': hour['temp_c'],\n",
    "                'humidity': hour['humidity'],\n",
    "                'pressure': hour['pressure_mb'],\n",
    "                'visibility': hour['vis_km'],\n",
    "                'cloud_cover': hour['cloud']\n",
    "            })\n",
    "\n",
    "weather_df = pd.DataFrame(weather_data)\n",
    "\n",
    "# Display the fetched data\n",
    "print(weather_df.head())\n"
   ]
  },
  {
   "cell_type": "code",
   "execution_count": 122,
   "metadata": {},
   "outputs": [
    {
     "name": "stdout",
     "output_type": "stream",
     "text": [
      "               time temp_cat humidity_cat pressure_cat visibility_cat  \\\n",
      "0  2025-03-12 00:00   Medium       Medium       Medium       Moderate   \n",
      "1  2025-03-12 01:00   Medium       Medium       Medium       Moderate   \n",
      "2  2025-03-12 02:00   Medium       Medium       Medium       Moderate   \n",
      "3  2025-03-12 03:00   Medium       Medium       Medium       Moderate   \n",
      "4  2025-03-12 04:00   Medium       Medium       Medium       Moderate   \n",
      "\n",
      "  cloud_cover_cat  \n",
      "0           Clear  \n",
      "1           Clear  \n",
      "2           Clear  \n",
      "3           Clear  \n",
      "4           Clear  \n"
     ]
    }
   ],
   "source": [
    "def categorize_temperature(temp):\n",
    "    if temp < 15:\n",
    "        return 'Low'\n",
    "    elif 15 <= temp <= 30:\n",
    "        return 'Medium'\n",
    "    else:\n",
    "        return 'High'\n",
    "\n",
    "def categorize_humidity(humidity):\n",
    "    if humidity < 30:\n",
    "        return 'Low'\n",
    "    elif 30 <= humidity <= 70:\n",
    "        return 'Medium'\n",
    "    else:\n",
    "        return 'High'\n",
    "\n",
    "\n",
    "def categorize_pressure(pressure):\n",
    "    if pressure < 1000:\n",
    "        return 'Low'\n",
    "    elif 1000 <= pressure <= 1020:\n",
    "        return 'Medium'\n",
    "    else:\n",
    "        return 'High'\n",
    "\n",
    "def categorize_visibility(visibility):\n",
    "    if visibility < 5:\n",
    "        return 'Poor'\n",
    "    elif 5 <= visibility <= 15:\n",
    "        return 'Moderate'\n",
    "    else:\n",
    "        return 'Good'\n",
    "\n",
    "def categorize_cloud_cover(cloud_cover):\n",
    "    if cloud_cover < 25:\n",
    "        return 'Clear'\n",
    "    elif 25 <= cloud_cover <= 75:\n",
    "        return 'Partly Cloudy'\n",
    "    else:\n",
    "        return 'Overcast'\n",
    "\n",
    "# Apply categorization functions\n",
    "weather_df['temp_cat'] = weather_df['temp'].apply(categorize_temperature)\n",
    "weather_df['humidity_cat'] = weather_df['humidity'].apply(categorize_humidity)\n",
    "weather_df['pressure_cat'] = weather_df['pressure'].apply(categorize_pressure)\n",
    "weather_df['visibility_cat'] = weather_df['visibility'].apply(categorize_visibility)\n",
    "weather_df['cloud_cover_cat'] = weather_df['cloud_cover'].apply(categorize_cloud_cover)\n",
    "\n",
    "# Display the categorized data\n",
    "print(weather_df[['time', 'temp_cat', 'humidity_cat','pressure_cat', 'visibility_cat', 'cloud_cover_cat']].head())\n"
   ]
  },
  {
   "cell_type": "code",
   "execution_count": 123,
   "metadata": {},
   "outputs": [
    {
     "name": "stdout",
     "output_type": "stream",
     "text": [
      "          Medium       Low     High\n",
      "Medium  0.466000  0.278000  0.25600\n",
      "Low     0.255702  0.494298  0.25000\n",
      "High    0.281250  0.250000  0.46875\n"
     ]
    }
   ],
   "source": [
    "import numpy as np\n",
    "\n",
    "def create_transition_matrix(data_column):\n",
    "    unique_states = data_column.unique()\n",
    "    transition_matrix = pd.DataFrame(np.zeros((len(unique_states), len(unique_states))), columns=unique_states, index=unique_states)\n",
    "    \n",
    "    for i in range(1, len(data_column)):\n",
    "        current_state = data_column[i-1]\n",
    "        next_state = data_column[i]\n",
    "        transition_matrix.at[current_state, next_state] += 1\n",
    "    \n",
    "    transition_matrix = transition_matrix.div(transition_matrix.sum(axis=1), axis=0)\n",
    "    \n",
    "    return transition_matrix\n",
    "\n",
    "humidity_transition_matrix = create_transition_matrix(weather_df['humidity_cat'])\n",
    "\n",
    "\n",
    "def smooth_transition_matrix(transition_matrix, alpha=1):\n",
    "    # Add smoothing (Laplace smoothing) to avoid zero probabilities\n",
    "    smoothed_matrix = transition_matrix + alpha\n",
    "    smoothed_matrix = smoothed_matrix.div(smoothed_matrix.sum(axis=1), axis=0)\n",
    "    return smoothed_matrix\n",
    "\n",
    "humidity_transition_matrix_smooth= smooth_transition_matrix(humidity_transition_matrix, alpha=1)\n",
    "\n",
    "\n",
    "print(humidity_transition_matrix_smooth)\n",
    "\n",
    "\n"
   ]
  },
  {
   "cell_type": "code",
   "execution_count": 124,
   "metadata": {},
   "outputs": [
    {
     "name": "stdout",
     "output_type": "stream",
     "text": [
      "Predicted Humidity: Medium\n"
     ]
    }
   ],
   "source": [
    "def predict_next_state(current_state, transition_matrix):\n",
    "    state_probs = transition_matrix.loc[current_state]\n",
    "    \n",
    "    if state_probs.sum() == 0:\n",
    "        return np.random.choice(transition_matrix.columns)\n",
    "    \n",
    "    return state_probs.idxmax()\n",
    "\n",
    "current_temp_state = weather_df['temp_cat'].iloc[-1]  \n",
    "predicted_temp = predict_next_state(current_temp_state, humidity_transition_matrix_smooth)\n",
    "\n",
    "def predict_next_state_probabilistic(current_state, transition_matrix):\n",
    "    state_probs = transition_matrix.loc[current_state]\n",
    "    \n",
    "    if state_probs.sum() == 0:\n",
    "        return np.random.choice(transition_matrix.columns)\n",
    "    \n",
    "    return np.random.choice(state_probs.index, p=state_probs.values)\n",
    "\n",
    "predicted_temp = predict_next_state_probabilistic(current_temp_state, humidity_transition_matrix_smooth)\n",
    "print(f\"Predicted Humidity: {predicted_temp}\")\n",
    " \n"
   ]
  },
  {
   "cell_type": "code",
   "execution_count": 125,
   "metadata": {},
   "outputs": [],
   "source": [
    "def predict_n_steps_probabilistic(current_state, transition_matrix, n_steps):\n",
    "    state = current_state\n",
    "    predictions = []\n",
    "    for _ in range(n_steps):\n",
    "        state_probs = transition_matrix.loc[state]\n",
    "        \n",
    "        if state_probs.sum() == 0:\n",
    "            state = np.random.choice(transition_matrix.columns)\n",
    "        else:\n",
    "            state = np.random.choice(state_probs.index, p=state_probs.values)\n",
    "        \n",
    "        predictions.append(state)\n",
    "    \n",
    "    return predictions\n"
   ]
  },
  {
   "cell_type": "code",
   "execution_count": 126,
   "metadata": {},
   "outputs": [
    {
     "name": "stdout",
     "output_type": "stream",
     "text": [
      "Humidity Forecast:\n",
      "After 2 hours: High\n",
      "After 4 hours: Low\n",
      "After 6 hours: Low\n"
     ]
    }
   ],
   "source": [
    "current_temp_state = weather_df['humidity_cat'].iloc[-1]\n",
    "\n",
    "predicted_states = predict_n_steps_probabilistic(current_temp_state, humidity_transition_matrix_smooth, 3)\n",
    "\n",
    "print(\"Humidity Forecast:\")\n",
    "print(f\"After 2 hours: {predicted_states[0]}\")\n",
    "print(f\"After 4 hours: {predicted_states[1]}\")\n",
    "print(f\"After 6 hours: {predicted_states[2]}\")\n"
   ]
  }
 ],
 "metadata": {
  "kernelspec": {
   "display_name": "Python 3",
   "language": "python",
   "name": "python3"
  },
  "language_info": {
   "codemirror_mode": {
    "name": "ipython",
    "version": 3
   },
   "file_extension": ".py",
   "mimetype": "text/x-python",
   "name": "python",
   "nbconvert_exporter": "python",
   "pygments_lexer": "ipython3",
   "version": "3.11.3"
  }
 },
 "nbformat": 4,
 "nbformat_minor": 2
}
