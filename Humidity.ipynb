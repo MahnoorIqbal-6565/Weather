{
 "cells": [
  {
   "cell_type": "code",
   "execution_count": 17,
   "metadata": {},
   "outputs": [
    {
     "name": "stdout",
     "output_type": "stream",
     "text": [
      "               time  temp  humidity  pressure  visibility  cloud_cover\n",
      "0  2025-01-02 00:00  11.4        20    1018.0        10.0            7\n",
      "1  2025-01-02 01:00  11.0        21    1017.0        10.0            7\n",
      "2  2025-01-02 02:00  10.6        21    1017.0        10.0            8\n",
      "3  2025-01-02 03:00  10.2        21    1017.0        10.0            9\n",
      "4  2025-01-02 04:00   9.8        21    1017.0        10.0           10\n"
     ]
    }
   ],
   "source": [
    "import requests\n",
    "import pandas as pd\n",
    "\n",
    "\n",
    "API_KEY = \"ca72e792bc6e44b4be1230936250904\"\n",
    "CITY = \"Lahore\"  \n",
    "URL = f\"http://api.weatherapi.com/v1/history.json?key={API_KEY}&q={CITY}&dt=\"\n",
    "\n",
    "dates = pd.date_range(end=pd.to_datetime('today'), periods=100).strftime('%Y-%m-%d')\n",
    "\n",
    "weather_data = []\n",
    "for date in dates:\n",
    "    response = requests.get(URL + date)\n",
    "    data = response.json()\n",
    "    if 'forecast' in data:\n",
    "        for hour in data['forecast']['forecastday'][0]['hour']:\n",
    "            weather_data.append({\n",
    "                'time': hour['time'],\n",
    "                'temp': hour['temp_c'],\n",
    "                'humidity': hour['humidity'],\n",
    "                'pressure': hour['pressure_mb'],\n",
    "                'visibility': hour['vis_km'],\n",
    "                'cloud_cover': hour['cloud']\n",
    "            })\n",
    "\n",
    "weather_df = pd.DataFrame(weather_data)\n",
    "\n",
    "# Display the fetched data\n",
    "print(weather_df.head())\n"
   ]
  },
  {
   "cell_type": "code",
   "execution_count": 18,
   "metadata": {},
   "outputs": [
    {
     "name": "stdout",
     "output_type": "stream",
     "text": [
      "               time temp_cat humidity_cat pressure_cat visibility_cat  \\\n",
      "0  2025-01-02 00:00      Low          Low       Medium       Moderate   \n",
      "1  2025-01-02 01:00      Low          Low       Medium       Moderate   \n",
      "2  2025-01-02 02:00      Low          Low       Medium       Moderate   \n",
      "3  2025-01-02 03:00      Low          Low       Medium       Moderate   \n",
      "4  2025-01-02 04:00      Low          Low       Medium       Moderate   \n",
      "\n",
      "  cloud_cover_cat  \n",
      "0           Clear  \n",
      "1           Clear  \n",
      "2           Clear  \n",
      "3           Clear  \n",
      "4           Clear  \n"
     ]
    }
   ],
   "source": [
    "def categorize_temperature(temp):\n",
    "    if temp < 15:\n",
    "        return 'Low'\n",
    "    elif 15 <= temp <= 30:\n",
    "        return 'Medium'\n",
    "    else:\n",
    "        return 'High'\n",
    "\n",
    "def categorize_humidity(humidity):\n",
    "    if humidity < 30:\n",
    "        return 'Low'\n",
    "    elif 30 <= humidity <= 70:\n",
    "        return 'Medium'\n",
    "    else:\n",
    "        return 'High'\n",
    "\n",
    "\n",
    "def categorize_pressure(pressure):\n",
    "    if pressure < 1000:\n",
    "        return 'Low'\n",
    "    elif 1000 <= pressure <= 1020:\n",
    "        return 'Medium'\n",
    "    else:\n",
    "        return 'High'\n",
    "\n",
    "def categorize_visibility(visibility):\n",
    "    if visibility < 5:\n",
    "        return 'Poor'\n",
    "    elif 5 <= visibility <= 15:\n",
    "        return 'Moderate'\n",
    "    else:\n",
    "        return 'Good'\n",
    "\n",
    "def categorize_cloud_cover(cloud_cover):\n",
    "    if cloud_cover < 25:\n",
    "        return 'Clear'\n",
    "    elif 25 <= cloud_cover <= 75:\n",
    "        return 'Partly Cloudy'\n",
    "    else:\n",
    "        return 'Overcast'\n",
    "\n",
    "# Apply categorization functions\n",
    "weather_df['temp_cat'] = weather_df['temp'].apply(categorize_temperature)\n",
    "weather_df['humidity_cat'] = weather_df['humidity'].apply(categorize_humidity)\n",
    "weather_df['pressure_cat'] = weather_df['pressure'].apply(categorize_pressure)\n",
    "weather_df['visibility_cat'] = weather_df['visibility'].apply(categorize_visibility)\n",
    "weather_df['cloud_cover_cat'] = weather_df['cloud_cover'].apply(categorize_cloud_cover)\n",
    "\n",
    "# Display the categorized data\n",
    "print(weather_df[['time', 'temp_cat', 'humidity_cat','pressure_cat', 'visibility_cat', 'cloud_cover_cat']].head())\n"
   ]
  },
  {
   "cell_type": "code",
   "execution_count": 19,
   "metadata": {},
   "outputs": [
    {
     "name": "stdout",
     "output_type": "stream",
     "text": [
      "             Low    Medium      High\n",
      "Low     0.488561  0.261439  0.250000\n",
      "Medium  0.272107  0.473667  0.254226\n",
      "High    0.250000  0.276639  0.473361\n"
     ]
    }
   ],
   "source": [
    "import numpy as np\n",
    "\n",
    "def create_transition_matrix(data_column):\n",
    "    unique_states = data_column.unique()\n",
    "    transition_matrix = pd.DataFrame(np.zeros((len(unique_states), len(unique_states))), columns=unique_states, index=unique_states)\n",
    "    \n",
    "    for i in range(1, len(data_column)):\n",
    "        current_state = data_column[i-1]\n",
    "        next_state = data_column[i]\n",
    "        transition_matrix.at[current_state, next_state] += 1\n",
    "    \n",
    "    transition_matrix = transition_matrix.div(transition_matrix.sum(axis=1), axis=0)\n",
    "    \n",
    "    return transition_matrix\n",
    "\n",
    "humidity_transition_matrix = create_transition_matrix(weather_df['humidity_cat'])\n",
    "\n",
    "\n",
    "def smooth_transition_matrix(transition_matrix, alpha=1):\n",
    "    # Add smoothing (Laplace smoothing) to avoid zero probabilities\n",
    "    smoothed_matrix = transition_matrix + alpha\n",
    "    smoothed_matrix = smoothed_matrix.div(smoothed_matrix.sum(axis=1), axis=0)\n",
    "    return smoothed_matrix\n",
    "\n",
    "humidity_transition_matrix_smooth= smooth_transition_matrix(humidity_transition_matrix, alpha=1)\n",
    "\n",
    "\n",
    "print(humidity_transition_matrix_smooth)\n",
    "\n",
    "\n"
   ]
  },
  {
   "cell_type": "code",
   "execution_count": 20,
   "metadata": {},
   "outputs": [
    {
     "name": "stdout",
     "output_type": "stream",
     "text": [
      "Predicted Humidity: Low\n"
     ]
    }
   ],
   "source": [
    "def predict_next_state(current_state, transition_matrix):\n",
    "    state_probs = transition_matrix.loc[current_state]\n",
    "    \n",
    "    if state_probs.sum() == 0:\n",
    "        return np.random.choice(transition_matrix.columns)\n",
    "    \n",
    "    return state_probs.idxmax()\n",
    "\n",
    "current_temp_state = weather_df['temp_cat'].iloc[-1]  \n",
    "predicted_temp = predict_next_state(current_temp_state, humidity_transition_matrix_smooth)\n",
    "\n",
    "def predict_next_state_probabilistic(current_state, transition_matrix):\n",
    "    state_probs = transition_matrix.loc[current_state]\n",
    "    \n",
    "    if state_probs.sum() == 0:\n",
    "        return np.random.choice(transition_matrix.columns)\n",
    "    \n",
    "    return np.random.choice(state_probs.index, p=state_probs.values)\n",
    "\n",
    "predicted_temp = predict_next_state_probabilistic(current_temp_state, humidity_transition_matrix_smooth)\n",
    "print(f\"Predicted Humidity: {predicted_temp}\")\n",
    " \n"
   ]
  },
  {
   "cell_type": "code",
   "execution_count": 21,
   "metadata": {},
   "outputs": [],
   "source": [
    "def predict_n_steps_probabilistic(current_state, transition_matrix, n_steps):\n",
    "    state = current_state\n",
    "    predictions = []\n",
    "    for _ in range(n_steps):\n",
    "        state_probs = transition_matrix.loc[state]\n",
    "        \n",
    "        if state_probs.sum() == 0:\n",
    "            state = np.random.choice(transition_matrix.columns)\n",
    "        else:\n",
    "            state = np.random.choice(state_probs.index, p=state_probs.values)\n",
    "        \n",
    "        predictions.append(state)\n",
    "    \n",
    "    return predictions\n"
   ]
  },
  {
   "cell_type": "code",
   "execution_count": 22,
   "metadata": {},
   "outputs": [
    {
     "name": "stdout",
     "output_type": "stream",
     "text": [
      "Humidity Forecast:\n",
      "After 2 hours: Low\n",
      "After 4 hours: Medium\n",
      "After 6 hours: Low\n"
     ]
    }
   ],
   "source": [
    "current_temp_state = weather_df['humidity_cat'].iloc[-1]\n",
    "\n",
    "predicted_states = predict_n_steps_probabilistic(current_temp_state, humidity_transition_matrix_smooth, 3)\n",
    "\n",
    "print(\"Humidity Forecast:\")\n",
    "print(f\"After 2 hours: {predicted_states[0]}\")\n",
    "print(f\"After 4 hours: {predicted_states[1]}\")\n",
    "print(f\"After 6 hours: {predicted_states[2]}\")\n"
   ]
  }
 ],
 "metadata": {
  "kernelspec": {
   "display_name": "Python 3",
   "language": "python",
   "name": "python3"
  },
  "language_info": {
   "codemirror_mode": {
    "name": "ipython",
    "version": 3
   },
   "file_extension": ".py",
   "mimetype": "text/x-python",
   "name": "python",
   "nbconvert_exporter": "python",
   "pygments_lexer": "ipython3",
   "version": "3.11.3"
  }
 },
 "nbformat": 4,
 "nbformat_minor": 2
}
